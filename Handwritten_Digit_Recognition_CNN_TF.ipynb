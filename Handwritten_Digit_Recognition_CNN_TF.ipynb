{
  "nbformat": 4,
  "nbformat_minor": 0,
  "metadata": {
    "anaconda-cloud": {},
    "kernelspec": {
      "display_name": "Python 3",
      "language": "python",
      "name": "python3"
    },
    "language_info": {
      "codemirror_mode": {
        "name": "ipython",
        "version": 3
      },
      "file_extension": ".py",
      "mimetype": "text/x-python",
      "name": "python",
      "nbconvert_exporter": "python",
      "pygments_lexer": "ipython3",
      "version": "3.6.5"
    },
    "colab": {
      "name": "Handwritten-Digit-Recognition-CNN.ipynb",
      "provenance": [],
      "collapsed_sections": [],
      "toc_visible": true,
      "include_colab_link": true
    }
  },
  "cells": [
    {
      "cell_type": "markdown",
      "metadata": {
        "id": "view-in-github",
        "colab_type": "text"
      },
      "source": [
        "<a href=\"https://colab.research.google.com/github/toluwee/Machine_Learning_Projects/blob/master/Handwritten_Digit_Recognition_CNN.ipynb\" target=\"_parent\"><img src=\"https://colab.research.google.com/assets/colab-badge.svg\" alt=\"Open In Colab\"/></a>"
      ]
    },
    {
      "cell_type": "markdown",
      "metadata": {
        "id": "V0OooYHX0gof"
      },
      "source": [
        "# Handwritten Digit Recognition using TensorFlow with and without Convolutions\n",
        "\n",
        "---\n",
        "\n"
      ]
    },
    {
      "cell_type": "markdown",
      "metadata": {
        "button": false,
        "deletable": true,
        "new_sheet": false,
        "run_control": {
          "read_only": false
        },
        "id": "bAAv_HxDZ5Gd"
      },
      "source": [
        "### About dataset\n",
        "The MNIST database of handwritten digits, available from http://yann.lecun.com/exdb/mnist/index.html and included in Keras dataset. It is a subset of a larger set available from NIST. The set of images in the MNIST database is a combination of two of NIST's databases: Special Database 1 and Special Database 3. Special Database 1 and Special Database 3 consist of digits written by high school students and employees of the United States Census Bureau, respectively. The digits have been size-normalized and centered in a fixed-size image.\n",
        "\n",
        "\n",
        "MNIST dataset has the following features:\n",
        "*   Dataset has a training set of 60,000 examples, and a test set of 10,000 examples.\n",
        "*   The size of each image is 28x28 pixels.\n",
        "*   Each image has only 1 color channel, i.e., grayscale image.\n",
        "*   Each pixel has value in the range of [0,255] where 0 represents black, and 255 represents white.\n",
        "*   Each image is labeled from 0-9.\n",
        "\n",
        "\n"
      ]
    },
    {
      "cell_type": "markdown",
      "metadata": {
        "id": "glyvyvrvVfdc"
      },
      "source": [
        "## Objective \n",
        "\n",
        "1. To correctly identify digits from a dataset of tens of thousands of handwritten images.\n",
        "2. To compare the results of the generated model with and without using CNN and CNN"
      ]
    },
    {
      "cell_type": "markdown",
      "metadata": {
        "id": "trGmvMr_DXho"
      },
      "source": [
        "## Methodology"
      ]
    },
    {
      "cell_type": "markdown",
      "metadata": {
        "button": false,
        "deletable": true,
        "new_sheet": false,
        "run_control": {
          "read_only": false
        },
        "id": "_G_802TrZ5GX"
      },
      "source": [
        "### Import Libraries"
      ]
    },
    {
      "cell_type": "code",
      "metadata": {
        "button": false,
        "deletable": true,
        "new_sheet": false,
        "run_control": {
          "read_only": false
        },
        "id": "WhZBpCNgZ5GZ"
      },
      "source": [
        "import tensorflow as tf\n",
        "import numpy as np\n",
        "import matplotlib.pyplot as plt\n",
        "%matplotlib inline"
      ],
      "execution_count": 1,
      "outputs": []
    },
    {
      "cell_type": "markdown",
      "metadata": {
        "button": false,
        "deletable": true,
        "new_sheet": false,
        "run_control": {
          "read_only": false
        },
        "id": "ro_Yx9azZ5Ge"
      },
      "source": [
        "### Import dataset\n",
        "Load MNIST data from tf.keras datasets API"
      ]
    },
    {
      "cell_type": "code",
      "metadata": {
        "id": "DPfdobEh6EMx",
        "colab": {
          "base_uri": "https://localhost:8080/"
        },
        "outputId": "eebc8135-f291-458d-cacd-a5d4816ddaf0"
      },
      "source": [
        " mnist = tf.keras.datasets.mnist\n",
        "(training_images, training_labels), (test_images, test_labels) = mnist.load_data()"
      ],
      "execution_count": 2,
      "outputs": [
        {
          "output_type": "stream",
          "name": "stdout",
          "text": [
            "Downloading data from https://storage.googleapis.com/tensorflow/tf-keras-datasets/mnist.npz\n",
            "11493376/11490434 [==============================] - 0s 0us/step\n",
            "11501568/11490434 [==============================] - 0s 0us/step\n"
          ]
        }
      ]
    },
    {
      "cell_type": "markdown",
      "metadata": {
        "id": "Wu9rFb5fOFCJ"
      },
      "source": [
        "Load the data into two sets of lists"
      ]
    },
    {
      "cell_type": "code",
      "metadata": {
        "id": "g24tksYJOFox"
      },
      "source": [
        "(training_images, training_labels), (test_images, test_labels) = mnist.load_data()"
      ],
      "execution_count": 3,
      "outputs": []
    },
    {
      "cell_type": "markdown",
      "metadata": {
        "button": false,
        "deletable": true,
        "new_sheet": false,
        "run_control": {
          "read_only": false
        },
        "id": "58zBP00vZ5Gy"
      },
      "source": [
        "### Exploratory Analysis\n",
        " "
      ]
    },
    {
      "cell_type": "markdown",
      "metadata": {
        "id": "nXhT7_A6OSDi"
      },
      "source": [
        "Next we visualize the input digits by plotting images. "
      ]
    },
    {
      "cell_type": "code",
      "metadata": {
        "button": false,
        "deletable": true,
        "new_sheet": false,
        "run_control": {
          "read_only": false
        },
        "id": "yfAT95-2Z5G0",
        "colab": {
          "base_uri": "https://localhost:8080/",
          "height": 768
        },
        "outputId": "94f16cc6-5076-4450-ea37-62f6f1d1823f"
      },
      "source": [
        "np.set_printoptions(linewidth=200) #These options determine the way floating point numbers, arrays and other NumPy objects are displayed.\n",
        "plt.imshow(training_images[1]) #Display data as an image; i.e. on a 2D regular raster\n",
        "print(training_labels[1])\n",
        "print(training_images[1])\n"
      ],
      "execution_count": 4,
      "outputs": [
        {
          "output_type": "stream",
          "name": "stdout",
          "text": [
            "0\n",
            "[[  0   0   0   0   0   0   0   0   0   0   0   0   0   0   0   0   0   0   0   0   0   0   0   0   0   0   0   0]\n",
            " [  0   0   0   0   0   0   0   0   0   0   0   0   0   0   0   0   0   0   0   0   0   0   0   0   0   0   0   0]\n",
            " [  0   0   0   0   0   0   0   0   0   0   0   0   0   0   0   0   0   0   0   0   0   0   0   0   0   0   0   0]\n",
            " [  0   0   0   0   0   0   0   0   0   0   0   0   0   0   0   0   0   0   0   0   0   0   0   0   0   0   0   0]\n",
            " [  0   0   0   0   0   0   0   0   0   0   0   0   0   0   0  51 159 253 159  50   0   0   0   0   0   0   0   0]\n",
            " [  0   0   0   0   0   0   0   0   0   0   0   0   0   0  48 238 252 252 252 237   0   0   0   0   0   0   0   0]\n",
            " [  0   0   0   0   0   0   0   0   0   0   0   0   0  54 227 253 252 239 233 252  57   6   0   0   0   0   0   0]\n",
            " [  0   0   0   0   0   0   0   0   0   0   0  10  60 224 252 253 252 202  84 252 253 122   0   0   0   0   0   0]\n",
            " [  0   0   0   0   0   0   0   0   0   0   0 163 252 252 252 253 252 252  96 189 253 167   0   0   0   0   0   0]\n",
            " [  0   0   0   0   0   0   0   0   0   0  51 238 253 253 190 114 253 228  47  79 255 168   0   0   0   0   0   0]\n",
            " [  0   0   0   0   0   0   0   0   0  48 238 252 252 179  12  75 121  21   0   0 253 243  50   0   0   0   0   0]\n",
            " [  0   0   0   0   0   0   0   0  38 165 253 233 208  84   0   0   0   0   0   0 253 252 165   0   0   0   0   0]\n",
            " [  0   0   0   0   0   0   0   7 178 252 240  71  19  28   0   0   0   0   0   0 253 252 195   0   0   0   0   0]\n",
            " [  0   0   0   0   0   0   0  57 252 252  63   0   0   0   0   0   0   0   0   0 253 252 195   0   0   0   0   0]\n",
            " [  0   0   0   0   0   0   0 198 253 190   0   0   0   0   0   0   0   0   0   0 255 253 196   0   0   0   0   0]\n",
            " [  0   0   0   0   0   0  76 246 252 112   0   0   0   0   0   0   0   0   0   0 253 252 148   0   0   0   0   0]\n",
            " [  0   0   0   0   0   0  85 252 230  25   0   0   0   0   0   0   0   0   7 135 253 186  12   0   0   0   0   0]\n",
            " [  0   0   0   0   0   0  85 252 223   0   0   0   0   0   0   0   0   7 131 252 225  71   0   0   0   0   0   0]\n",
            " [  0   0   0   0   0   0  85 252 145   0   0   0   0   0   0   0  48 165 252 173   0   0   0   0   0   0   0   0]\n",
            " [  0   0   0   0   0   0  86 253 225   0   0   0   0   0   0 114 238 253 162   0   0   0   0   0   0   0   0   0]\n",
            " [  0   0   0   0   0   0  85 252 249 146  48  29  85 178 225 253 223 167  56   0   0   0   0   0   0   0   0   0]\n",
            " [  0   0   0   0   0   0  85 252 252 252 229 215 252 252 252 196 130   0   0   0   0   0   0   0   0   0   0   0]\n",
            " [  0   0   0   0   0   0  28 199 252 252 253 252 252 233 145   0   0   0   0   0   0   0   0   0   0   0   0   0]\n",
            " [  0   0   0   0   0   0   0  25 128 252 253 252 141  37   0   0   0   0   0   0   0   0   0   0   0   0   0   0]\n",
            " [  0   0   0   0   0   0   0   0   0   0   0   0   0   0   0   0   0   0   0   0   0   0   0   0   0   0   0   0]\n",
            " [  0   0   0   0   0   0   0   0   0   0   0   0   0   0   0   0   0   0   0   0   0   0   0   0   0   0   0   0]\n",
            " [  0   0   0   0   0   0   0   0   0   0   0   0   0   0   0   0   0   0   0   0   0   0   0   0   0   0   0   0]\n",
            " [  0   0   0   0   0   0   0   0   0   0   0   0   0   0   0   0   0   0   0   0   0   0   0   0   0   0   0   0]]\n"
          ]
        },
        {
          "output_type": "display_data",
          "data": {
            "image/png": "[encoded data removed]",
            "text/plain": [
              "<Figure size 432x288 with 1 Axes>"
            ]
          },
          "metadata": {
            "needs_background": "light"
          }
        }
      ]
    },
    {
      "cell_type": "markdown",
      "metadata": {
        "id": "rBfwq_lWvI6d"
      },
      "source": [
        "This will plot the first 30 images of digits with the label."
      ]
    },
    {
      "cell_type": "code",
      "metadata": {
        "id": "M2ZpZ1UGOmeX",
        "colab": {
          "base_uri": "https://localhost:8080/",
          "height": 586
        },
        "outputId": "f4e9de51-874c-438f-ee43-6e41bfd2a1f3"
      },
      "source": [
        "rows = 5 # defining no. of rows in figure\n",
        "cols = 6 # defining no. of colums in figure\n",
        "\n",
        "f = plt.figure(figsize=(2*cols,2*rows)) # defining a figure \n",
        "\n",
        "for i in range(rows*cols): \n",
        "    f.add_subplot(rows,cols,i+1) # adding sub plot to figure on each iteration\n",
        "    plt.imshow(training_images[i].reshape([28,28]),cmap=\"Blues\") \n",
        "    plt.axis(\"off\")\n",
        "    plt.title(str(training_labels[i]), y=-0.15,color=\"green\")\n",
        "plt.savefig(\"digits.png\")"
      ],
      "execution_count": 5,
      "outputs": [
        {
          "output_type": "display_data",
          "data": {
            "image/png": "[encoded data removed]",
            "text/plain": [
              "<Figure size 864x720 with 30 Axes>"
            ]
          },
          "metadata": {
            "needs_background": "light"
          }
        }
      ]
    },
    {
      "cell_type": "markdown",
      "metadata": {
        "id": "czyoTNbz_Exk"
      },
      "source": [
        "### Pre-processing"
      ]
    },
    {
      "cell_type": "markdown",
      "metadata": {
        "id": "PHbrT3WiBuqw"
      },
      "source": [
        "First we reshape the images to 4D   "
      ]
    },
    {
      "cell_type": "code",
      "metadata": {
        "id": "zW80I10rCRSJ"
      },
      "source": [
        "training_images=training_images.reshape(60000, 28, 28, 1)\n",
        "test_images = test_images.reshape(10000, 28, 28, 1)"
      ],
      "execution_count": 6,
      "outputs": []
    },
    {
      "cell_type": "markdown",
      "metadata": {
        "button": false,
        "deletable": true,
        "new_sheet": false,
        "run_control": {
          "read_only": false
        },
        "id": "w5DscYWX_Exk"
      },
      "source": [
        "Now, we normalize the values \n",
        "\n",
        "*Important to only normalize the training and testing images, not the labels!*"
      ]
    },
    {
      "cell_type": "code",
      "metadata": {
        "id": "hhk5tV4f_Exl"
      },
      "source": [
        "training_images = training_images / 255.0\n",
        "test_images = test_images / 255.0"
      ],
      "execution_count": 7,
      "outputs": []
    },
    {
      "cell_type": "markdown",
      "metadata": {
        "id": "Nw1pICgc_Exo"
      },
      "source": [
        "We write a code to initiate callback immediately a level of accuracy is achieved"
      ]
    },
    {
      "cell_type": "code",
      "metadata": {
        "id": "zwQpNqU4_Exp"
      },
      "source": [
        "class myCallback(tf.keras.callbacks.Callback):\n",
        "  def on_epoch_end(self, epoch, logs={}):\n",
        "    if(logs.get('accuracy')>0.99):\n",
        "      print(\"\\nReached 99% accuracy so cancelling training!\")\n",
        "      self.model.stop_training = True\n",
        "\n",
        "callbacks = myCallback()"
      ],
      "execution_count": 8,
      "outputs": []
    },
    {
      "cell_type": "markdown",
      "metadata": {
        "id": "pAuHUPN6BXsY"
      },
      "source": [
        "### Model design\n",
        "\n",
        "Next, we design the model using Deep Neural network but with Convolution layers utilizing .Conv2D and .MaxPooling added on top. \n",
        "\n"
      ]
    },
    {
      "cell_type": "code",
      "metadata": {
        "button": false,
        "deletable": true,
        "new_sheet": false,
        "run_control": {
          "read_only": false
        },
        "id": "l2E1Uow08yU7"
      },
      "source": [
        "model = tf.keras.models.Sequential([\n",
        "  tf.keras.layers.Conv2D(64, (3,3), activation='relu', input_shape=(28, 28, 1)),\n",
        "  tf.keras.layers.MaxPooling2D(2, 2),\n",
        "  tf.keras.layers.Conv2D(64, (3,3), activation='relu'),\n",
        "  tf.keras.layers.MaxPooling2D(2,2),\n",
        "  tf.keras.layers.Flatten(),\n",
        "  tf.keras.layers.Dense(128, activation='relu'),\n",
        "  tf.keras.layers.Dense(10, activation='softmax')\n",
        "])"
      ],
      "execution_count": 9,
      "outputs": []
    },
    {
      "cell_type": "markdown",
      "metadata": {
        "id": "o5nha35l8yU_"
      },
      "source": [
        "**Sequential** groups a linear stack of layers into a tf.keras.Model\n",
        "\n",
        "**Flatten**: takes a square (28x28) image and turns it into a 1 dimensional set.\n",
        "\n",
        "**Dense**: Adds a layer of neurons \n",
        "  The middle layer is set to 512, can be varied to optimize model)\n",
        "  The output layer is set to 10, the number of features\n",
        "\n",
        "Each layer of neurons need an **activation function** to tell them what to do.\n",
        "\n",
        "**Relu** effectively means \"If X>0 return X, else return 0\" - it only passes values 0 or greater to the next layer in the network.\n",
        "\n",
        "**Softmax** takes a set of values, and effectively picks the biggest one. For example, if the output of the last layer is [0.1, 0.1, 0.05, 0.1, 9.5, 0.1, 0.05, 0.05, 0.05], it turns into [0,0,0,0,1,0,0,0,0]\n",
        "\n",
        "**Conv2D.** 2D convolution layer (e.g. spatial convolution over images). This layer creates a convolution kernel that is convolved with the layer input to produce a tensor of outputs.\n",
        "\n",
        "**MaxPool2D.** layer is used to reduce the size of the image. Pool size (2,2) means reducing the image from (28,28) to (14,14). Reducing the features"
      ]
    },
    {
      "cell_type": "markdown",
      "metadata": {
        "id": "IfUrAj008yU_"
      },
      "source": [
        "We then build the model with .compile and train it with .fit using the training data"
      ]
    },
    {
      "cell_type": "code",
      "metadata": {
        "id": "fOwRF3_ULQDo",
        "colab": {
          "base_uri": "https://localhost:8080/"
        },
        "outputId": "a3fda81b-90a1-4824-ccbd-ef15b50fc77e"
      },
      "source": [
        "model.compile(optimizer= tf.optimizers.Adam(),\n",
        "              loss = 'sparse_categorical_crossentropy',\n",
        "              metrics=['accuracy'])\n",
        "\n",
        "model.summary()\n",
        "\n",
        "history = model.fit(training_images, training_labels, epochs=20, callbacks=[callbacks])"
      ],
      "execution_count": 10,
      "outputs": [
        {
          "output_type": "stream",
          "name": "stdout",
          "text": [
            "Model: \"sequential\"\n",
            "_________________________________________________________________\n",
            " Layer (type)                Output Shape              Param #   \n",
            "=================================================================\n",
            " conv2d (Conv2D)             (None, 26, 26, 64)        640       \n",
            "                                                                 \n",
            " max_pooling2d (MaxPooling2D  (None, 13, 13, 64)       0         \n",
            " )                                                               \n",
            "                                                                 \n",
            " conv2d_1 (Conv2D)           (None, 11, 11, 64)        36928     \n",
            "                                                                 \n",
            " max_pooling2d_1 (MaxPooling  (None, 5, 5, 64)         0         \n",
            " 2D)                                                             \n",
            "                                                                 \n",
            " flatten (Flatten)           (None, 1600)              0         \n",
            "                                                                 \n",
            " dense (Dense)               (None, 128)               204928    \n",
            "                                                                 \n",
            " dense_1 (Dense)             (None, 10)                1290      \n",
            "                                                                 \n",
            "=================================================================\n",
            "Total params: 243,786\n",
            "Trainable params: 243,786\n",
            "Non-trainable params: 0\n",
            "_________________________________________________________________\n",
            "Epoch 1/20\n",
            "1875/1875 [==============================] - 85s 45ms/step - loss: 0.1229 - accuracy: 0.9625\n",
            "Epoch 2/20\n",
            "1875/1875 [==============================] - 84s 45ms/step - loss: 0.0412 - accuracy: 0.9870\n",
            "Epoch 3/20\n",
            "1875/1875 [==============================] - ETA: 0s - loss: 0.0279 - accuracy: 0.9913\n",
            "Reached 99% accuracy so cancelling training!\n",
            "1875/1875 [==============================] - 85s 45ms/step - loss: 0.0279 - accuracy: 0.9913\n"
          ]
        }
      ]
    },
    {
      "cell_type": "markdown",
      "metadata": {
        "id": "126lsPHk8yVF"
      },
      "source": [
        "We can use test images to see the model's performance on unseen data"
      ]
    },
    {
      "cell_type": "code",
      "metadata": {
        "id": "YvJVJ8K48yVG",
        "colab": {
          "base_uri": "https://localhost:8080/"
        },
        "outputId": "3cc0efde-dc17-45bb-ac6e-b6030b85480f"
      },
      "source": [
        "model.evaluate(test_images,test_labels)"
      ],
      "execution_count": 11,
      "outputs": [
        {
          "output_type": "stream",
          "name": "stdout",
          "text": [
            "313/313 [==============================] - 4s 14ms/step - loss: 0.0329 - accuracy: 0.9894\n"
          ]
        },
        {
          "output_type": "execute_result",
          "data": {
            "text/plain": [
              "[0.032905180007219315, 0.9894000291824341]"
            ]
          },
          "metadata": {},
          "execution_count": 11
        }
      ]
    },
    {
      "cell_type": "markdown",
      "metadata": {
        "button": false,
        "deletable": true,
        "new_sheet": false,
        "run_control": {
          "read_only": false
        },
        "id": "hHVd4hl28yVJ"
      },
      "source": [
        "### Prediction\n",
        "Now we make prediction on the testing dataset and store it into a variable called classifications\n"
      ]
    },
    {
      "cell_type": "code",
      "metadata": {
        "button": false,
        "deletable": true,
        "new_sheet": false,
        "run_control": {
          "read_only": false
        },
        "id": "HhcuSiEP8yVK"
      },
      "source": [
        "classifications = model.predict(test_images)"
      ],
      "execution_count": 12,
      "outputs": []
    },
    {
      "cell_type": "markdown",
      "metadata": {
        "button": false,
        "deletable": true,
        "new_sheet": false,
        "run_control": {
          "read_only": false
        },
        "id": "yieGUB8N8yVO"
      },
      "source": [
        "<b>Classifications</b> are printed out to compare the prediction to the actual values."
      ]
    },
    {
      "cell_type": "code",
      "metadata": {
        "button": false,
        "deletable": true,
        "new_sheet": false,
        "run_control": {
          "read_only": false
        },
        "scrolled": true,
        "id": "0kydaB3I8yVO",
        "colab": {
          "base_uri": "https://localhost:8080/"
        },
        "outputId": "fba95dd4-5b22-4ef1-b7ce-cb28f36489f1"
      },
      "source": [
        "print (classifications [0])\n"
      ],
      "execution_count": 13,
      "outputs": [
        {
          "output_type": "stream",
          "name": "stdout",
          "text": [
            "[2.9477548e-08 2.7455761e-07 1.7464514e-07 4.1650304e-07 8.4115181e-10 5.8517839e-09 3.2607641e-12 9.9999893e-01 1.1830182e-07 1.7866230e-07]\n"
          ]
        }
      ]
    },
    {
      "cell_type": "markdown",
      "metadata": {
        "id": "2Qa5NiVg8yVT"
      },
      "source": [
        "The 10 numbers obtained show the probability that the image belongs to a particular class.\n",
        "\n",
        "For the test_image at position 0, the 7th value has the highest probability. so that class is obtained from the key as an ankle boot."
      ]
    },
    {
      "cell_type": "code",
      "metadata": {
        "id": "A_DrBT4g8yVT",
        "colab": {
          "base_uri": "https://localhost:8080/"
        },
        "outputId": "baf05241-1a38-4a34-f471-dcd0bad1e957"
      },
      "source": [
        "print(test_labels[0])"
      ],
      "execution_count": 14,
      "outputs": [
        {
          "output_type": "stream",
          "name": "stdout",
          "text": [
            "7\n"
          ]
        }
      ]
    },
    {
      "cell_type": "markdown",
      "metadata": {
        "button": false,
        "deletable": true,
        "new_sheet": false,
        "run_control": {
          "read_only": false
        },
        "id": "xzL_mVL38yVX"
      },
      "source": [
        "### Evaluation\n"
      ]
    },
    {
      "cell_type": "markdown",
      "metadata": {
        "id": "dXS4t93q8yVX"
      },
      "source": [
        "We can simply view the accuracy of the model as follows:"
      ]
    },
    {
      "cell_type": "code",
      "metadata": {
        "button": false,
        "deletable": true,
        "new_sheet": false,
        "run_control": {
          "read_only": false
        },
        "id": "BHfkFaJU8yVY",
        "colab": {
          "base_uri": "https://localhost:8080/"
        },
        "outputId": "1ad98ae5-b21e-45de-9529-99569f2292f4"
      },
      "source": [
        "history.epoch, history.history['accuracy'][-1]"
      ],
      "execution_count": 15,
      "outputs": [
        {
          "output_type": "execute_result",
          "data": {
            "text/plain": [
              "([0, 1, 2], 0.991266667842865)"
            ]
          },
          "metadata": {},
          "execution_count": 15
        }
      ]
    }
  ]
}
